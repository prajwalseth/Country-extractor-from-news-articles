{
 "cells": [
  {
   "cell_type": "code",
   "execution_count": 1,
   "metadata": {},
   "outputs": [],
   "source": [
    "import pandas as pd"
   ]
  },
  {
   "cell_type": "code",
   "execution_count": 2,
   "metadata": {
    "scrolled": true
   },
   "outputs": [],
   "source": [
    "df = pd.read_excel('/Users/prajwal/Desktop/Koc/week4/covid news/v6/part1 pred-2.xlsx')\n",
    "df = df.drop(['Unnamed: 0'],axis=1)"
   ]
  },
  {
   "cell_type": "code",
   "execution_count": 3,
   "metadata": {},
   "outputs": [],
   "source": [
    "#df.head()"
   ]
  },
  {
   "cell_type": "code",
   "execution_count": 4,
   "metadata": {
    "scrolled": true
   },
   "outputs": [],
   "source": [
    "#df.loc[[11]]"
   ]
  },
  {
   "cell_type": "code",
   "execution_count": 5,
   "metadata": {},
   "outputs": [],
   "source": [
    "plural_nationalities = pd.read_excel('plural nationalities.xlsx')"
   ]
  },
  {
   "cell_type": "code",
   "execution_count": 6,
   "metadata": {},
   "outputs": [
    {
     "data": {
      "text/plain": [
       "'Iraqi'"
      ]
     },
     "execution_count": 6,
     "metadata": {},
     "output_type": "execute_result"
    }
   ],
   "source": [
    "plural_nationalities['plural_country'][48]"
   ]
  },
  {
   "cell_type": "code",
   "execution_count": 7,
   "metadata": {
    "scrolled": true
   },
   "outputs": [
    {
     "data": {
      "text/plain": [
       "51"
      ]
     },
     "execution_count": 7,
     "metadata": {},
     "output_type": "execute_result"
    }
   ],
   "source": [
    "plural_nationalities[plural_nationalities['country']=='Italy'].index.values[0]"
   ]
  },
  {
   "cell_type": "code",
   "execution_count": 8,
   "metadata": {
    "scrolled": true
   },
   "outputs": [],
   "source": [
    "common_dict = {}\n",
    "for m in range(0, len(df)):\n",
    "    #temp1_list = df['possible_cities'][m][1:-1:].replace(\"'\",'').replace(\"'\",\"\").split('\"')\n",
    "    temp1_list = [x.lstrip() for x in df['possible_cities'][m][1:-1:].replace(\"'\",\"\").replace('\"','').replace('.','').split(',')]\n",
    "    #temp1_list = temp1_list[0].split(', ')\n",
    "\n",
    "    temp2_list = [x.lstrip() for x in df['pred_country_list_names'][m][1:-1:].replace(\"'\",\"\").replace('\"','').replace('.','').split(',')]\n",
    "    #temp2_list = temp2_list[0].split(', ')\n",
    "    \n",
    "\n",
    "    temp_stop = 0\n",
    "    for i in range(0,len(temp1_list)):\n",
    "        if temp1_list == ['']:\n",
    "            temp_stop = -1\n",
    "            break\n",
    "        else:\n",
    "            for j in range(0, len(temp2_list)):\n",
    "                try:\n",
    "                    #print(m, i, j, temp1_list[i], temp2_list[j].lower())\n",
    "                    try:\n",
    "                        if (temp1_list[i].lower().index(temp2_list[j].lower())>=0):\n",
    "                            temp_stop+=1\n",
    "                    except:\n",
    "                        pass\n",
    "                    \n",
    "                    try:\n",
    "                        if temp2_list[j].lower().index(temp1_list[i].lower()) >=0:\n",
    "                            temp_stop+=1\n",
    "                    except:\n",
    "                        pass\n",
    "                    \n",
    "                except:\n",
    "                    pass\n",
    "    #print(temp_stop)\n",
    "\n",
    "    if temp_stop == 0:\n",
    "        if temp1_list != ['']:\n",
    "            for i in range(0, len(temp1_list)):\n",
    "                #print(m, temp1_list[i], str(df['pred_country_flashgeotext'][m]).lower())\n",
    "                try:\n",
    "                    if (str(df['pred_country_flashgeotext'][m]).lower().index(temp1_list[i])>=0\n",
    "                        or temp1_list[i].index(str(df['pred_country_flashgeotext'][m]).lower())>=0\n",
    "                        and str(df['pred_country_flashgeotext'][m]) != 'nan'):\n",
    "                        temp_stop = str(temp_stop).replace('0','')+ 'yes'\n",
    "                        break\n",
    "                except:\n",
    "                    pass\n",
    "            \n",
    "                try:\n",
    "                    temp_loc_of_country = plural_nationalities[plural_nationalities['country']==temp1_list[i].title()].index.values[0]\n",
    "                    if temp_loc_of_country>=0:\n",
    "                        for j in range(0, len(temp2_list)):\n",
    "                            if plural_nationalities['plural_country'][temp_loc_of_country].index(temp2_list[j])>=0:\n",
    "                                temp_stop = str(temp_stop).replace('0','')+ 'yes2'\n",
    "                                break\n",
    "                except:\n",
    "                    pass\n",
    "                        \n",
    "    common_dict[m] = temp_stop\n",
    "    \n",
    "    "
   ]
  },
  {
   "cell_type": "code",
   "execution_count": 9,
   "metadata": {
    "scrolled": true
   },
   "outputs": [],
   "source": [
    "df['num_common_locations'] = list(common_dict.values())"
   ]
  },
  {
   "cell_type": "code",
   "execution_count": 10,
   "metadata": {
    "scrolled": true
   },
   "outputs": [
    {
     "data": {
      "text/plain": [
       "-1"
      ]
     },
     "execution_count": 10,
     "metadata": {},
     "output_type": "execute_result"
    }
   ],
   "source": [
    "df['num_common_locations'][7582]"
   ]
  },
  {
   "cell_type": "code",
   "execution_count": 11,
   "metadata": {
    "scrolled": true
   },
   "outputs": [],
   "source": [
    "df.to_excel('/Users/prajwal/Desktop/Koc/week4/covid news/v6/part1 pred with checks-2.xlsx')"
   ]
  },
  {
   "cell_type": "code",
   "execution_count": null,
   "metadata": {},
   "outputs": [],
   "source": []
  }
 ],
 "metadata": {
  "kernelspec": {
   "display_name": "Python 3",
   "language": "python",
   "name": "python3"
  },
  "language_info": {
   "codemirror_mode": {
    "name": "ipython",
    "version": 3
   },
   "file_extension": ".py",
   "mimetype": "text/x-python",
   "name": "python",
   "nbconvert_exporter": "python",
   "pygments_lexer": "ipython3",
   "version": "3.7.3"
  }
 },
 "nbformat": 4,
 "nbformat_minor": 2
}
